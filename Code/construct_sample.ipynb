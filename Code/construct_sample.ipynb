{
 "cells": [
  {
   "cell_type": "code",
   "execution_count": 3,
   "metadata": {},
   "outputs": [],
   "source": [
    "import pandas as pd"
   ]
  },
  {
   "cell_type": "code",
   "execution_count": 4,
   "metadata": {},
   "outputs": [
    {
     "name": "stderr",
     "output_type": "stream",
     "text": [
      "/var/folders/1v/mg6_xn492j3g8l1qd503m2n80000gn/T/ipykernel_70752/1247585743.py:1: DtypeWarning: Columns (12,13) have mixed types. Specify dtype option on import or set low_memory=False.\n",
      "  df_posts = pd.read_csv('./posts_predicted.csv')\n"
     ]
    }
   ],
   "source": [
    "df_posts = pd.read_csv('./posts_predicted.csv')"
   ]
  },
  {
   "cell_type": "code",
   "execution_count": 7,
   "metadata": {},
   "outputs": [],
   "source": [
    "df_replies = df_posts[~df_posts.is_parent_post.astype(bool)]"
   ]
  },
  {
   "cell_type": "code",
   "execution_count": 8,
   "metadata": {},
   "outputs": [
    {
     "data": {
      "text/plain": [
       "(2914128, 30)"
      ]
     },
     "execution_count": 8,
     "metadata": {},
     "output_type": "execute_result"
    }
   ],
   "source": [
    "df_replies.shape"
   ]
  },
  {
   "cell_type": "code",
   "execution_count": 9,
   "metadata": {},
   "outputs": [
    {
     "name": "stderr",
     "output_type": "stream",
     "text": [
      "/var/folders/1v/mg6_xn492j3g8l1qd503m2n80000gn/T/ipykernel_70752/2691881560.py:1: SettingWithCopyWarning: \n",
      "A value is trying to be set on a copy of a slice from a DataFrame.\n",
      "Try using .loc[row_indexer,col_indexer] = value instead\n",
      "\n",
      "See the caveats in the documentation: https://pandas.pydata.org/pandas-docs/stable/user_guide/indexing.html#returning-a-view-versus-a-copy\n",
      "  df_replies['token_num'] = df_replies.comment_text.fillna('').str.split(' ').apply(lambda x: len(x))\n"
     ]
    }
   ],
   "source": [
    "df_replies['token_num'] = df_replies.comment_text.fillna('').str.split(' ').apply(lambda x: len(x))"
   ]
  },
  {
   "cell_type": "code",
   "execution_count": 26,
   "metadata": {},
   "outputs": [],
   "source": [
    "df_replies_filtered = df_replies[\n",
    "    df_replies['token_num'] >= 10\n",
    "]"
   ]
  },
  {
   "cell_type": "code",
   "execution_count": 27,
   "metadata": {},
   "outputs": [
    {
     "name": "stderr",
     "output_type": "stream",
     "text": [
      "/var/folders/1v/mg6_xn492j3g8l1qd503m2n80000gn/T/ipykernel_70752/4050337512.py:5: SettingWithCopyWarning: \n",
      "A value is trying to be set on a copy of a slice from a DataFrame.\n",
      "Try using .loc[row_indexer,col_indexer] = value instead\n",
      "\n",
      "See the caveats in the documentation: https://pandas.pydata.org/pandas-docs/stable/user_guide/indexing.html#returning-a-view-versus-a-copy\n",
      "  df_replies_filtered['safety_score'] = 1 - df_replies_filtered[flags].mean(axis=1)\n"
     ]
    }
   ],
   "source": [
    "flags = ['TOXICITY', 'IDENTITY_ATTACK', 'INSULT', 'PROFANITY', 'THREAT', 'SEXUALLY_EXPLICIT']\n",
    "\n",
    "# 1: safe\n",
    "# 0: unsafe\n",
    "df_replies_filtered['safety_score'] = 1 - df_replies_filtered[flags].mean(axis=1)"
   ]
  },
  {
   "cell_type": "code",
   "execution_count": 35,
   "metadata": {},
   "outputs": [
    {
     "name": "stderr",
     "output_type": "stream",
     "text": [
      "/var/folders/1v/mg6_xn492j3g8l1qd503m2n80000gn/T/ipykernel_70752/889736065.py:5: SettingWithCopyWarning: \n",
      "A value is trying to be set on a copy of a slice from a DataFrame.\n",
      "Try using .loc[row_indexer,col_indexer] = value instead\n",
      "\n",
      "See the caveats in the documentation: https://pandas.pydata.org/pandas-docs/stable/user_guide/indexing.html#returning-a-view-versus-a-copy\n",
      "  data_certain['type'] = 'unsafe'\n",
      "/var/folders/1v/mg6_xn492j3g8l1qd503m2n80000gn/T/ipykernel_70752/889736065.py:10: SettingWithCopyWarning: \n",
      "A value is trying to be set on a copy of a slice from a DataFrame.\n",
      "Try using .loc[row_indexer,col_indexer] = value instead\n",
      "\n",
      "See the caveats in the documentation: https://pandas.pydata.org/pandas-docs/stable/user_guide/indexing.html#returning-a-view-versus-a-copy\n",
      "  data_marginal['type'] = 'marginal'\n",
      "/var/folders/1v/mg6_xn492j3g8l1qd503m2n80000gn/T/ipykernel_70752/889736065.py:17: SettingWithCopyWarning: \n",
      "A value is trying to be set on a copy of a slice from a DataFrame.\n",
      "Try using .loc[row_indexer,col_indexer] = value instead\n",
      "\n",
      "See the caveats in the documentation: https://pandas.pydata.org/pandas-docs/stable/user_guide/indexing.html#returning-a-view-versus-a-copy\n",
      "  data_slight['type'] = 'slight'\n",
      "/var/folders/1v/mg6_xn492j3g8l1qd503m2n80000gn/T/ipykernel_70752/889736065.py:5: SettingWithCopyWarning: \n",
      "A value is trying to be set on a copy of a slice from a DataFrame.\n",
      "Try using .loc[row_indexer,col_indexer] = value instead\n",
      "\n",
      "See the caveats in the documentation: https://pandas.pydata.org/pandas-docs/stable/user_guide/indexing.html#returning-a-view-versus-a-copy\n",
      "  data_certain['type'] = 'unsafe'\n",
      "/var/folders/1v/mg6_xn492j3g8l1qd503m2n80000gn/T/ipykernel_70752/889736065.py:10: SettingWithCopyWarning: \n",
      "A value is trying to be set on a copy of a slice from a DataFrame.\n",
      "Try using .loc[row_indexer,col_indexer] = value instead\n",
      "\n",
      "See the caveats in the documentation: https://pandas.pydata.org/pandas-docs/stable/user_guide/indexing.html#returning-a-view-versus-a-copy\n",
      "  data_marginal['type'] = 'marginal'\n",
      "/var/folders/1v/mg6_xn492j3g8l1qd503m2n80000gn/T/ipykernel_70752/889736065.py:17: SettingWithCopyWarning: \n",
      "A value is trying to be set on a copy of a slice from a DataFrame.\n",
      "Try using .loc[row_indexer,col_indexer] = value instead\n",
      "\n",
      "See the caveats in the documentation: https://pandas.pydata.org/pandas-docs/stable/user_guide/indexing.html#returning-a-view-versus-a-copy\n",
      "  data_slight['type'] = 'slight'\n",
      "/var/folders/1v/mg6_xn492j3g8l1qd503m2n80000gn/T/ipykernel_70752/889736065.py:5: SettingWithCopyWarning: \n",
      "A value is trying to be set on a copy of a slice from a DataFrame.\n",
      "Try using .loc[row_indexer,col_indexer] = value instead\n",
      "\n",
      "See the caveats in the documentation: https://pandas.pydata.org/pandas-docs/stable/user_guide/indexing.html#returning-a-view-versus-a-copy\n",
      "  data_certain['type'] = 'unsafe'\n",
      "/var/folders/1v/mg6_xn492j3g8l1qd503m2n80000gn/T/ipykernel_70752/889736065.py:10: SettingWithCopyWarning: \n",
      "A value is trying to be set on a copy of a slice from a DataFrame.\n",
      "Try using .loc[row_indexer,col_indexer] = value instead\n",
      "\n",
      "See the caveats in the documentation: https://pandas.pydata.org/pandas-docs/stable/user_guide/indexing.html#returning-a-view-versus-a-copy\n",
      "  data_marginal['type'] = 'marginal'\n",
      "/var/folders/1v/mg6_xn492j3g8l1qd503m2n80000gn/T/ipykernel_70752/889736065.py:17: SettingWithCopyWarning: \n",
      "A value is trying to be set on a copy of a slice from a DataFrame.\n",
      "Try using .loc[row_indexer,col_indexer] = value instead\n",
      "\n",
      "See the caveats in the documentation: https://pandas.pydata.org/pandas-docs/stable/user_guide/indexing.html#returning-a-view-versus-a-copy\n",
      "  data_slight['type'] = 'slight'\n",
      "/var/folders/1v/mg6_xn492j3g8l1qd503m2n80000gn/T/ipykernel_70752/889736065.py:5: SettingWithCopyWarning: \n",
      "A value is trying to be set on a copy of a slice from a DataFrame.\n",
      "Try using .loc[row_indexer,col_indexer] = value instead\n",
      "\n",
      "See the caveats in the documentation: https://pandas.pydata.org/pandas-docs/stable/user_guide/indexing.html#returning-a-view-versus-a-copy\n",
      "  data_certain['type'] = 'unsafe'\n",
      "/var/folders/1v/mg6_xn492j3g8l1qd503m2n80000gn/T/ipykernel_70752/889736065.py:10: SettingWithCopyWarning: \n",
      "A value is trying to be set on a copy of a slice from a DataFrame.\n",
      "Try using .loc[row_indexer,col_indexer] = value instead\n",
      "\n",
      "See the caveats in the documentation: https://pandas.pydata.org/pandas-docs/stable/user_guide/indexing.html#returning-a-view-versus-a-copy\n",
      "  data_marginal['type'] = 'marginal'\n",
      "/var/folders/1v/mg6_xn492j3g8l1qd503m2n80000gn/T/ipykernel_70752/889736065.py:17: SettingWithCopyWarning: \n",
      "A value is trying to be set on a copy of a slice from a DataFrame.\n",
      "Try using .loc[row_indexer,col_indexer] = value instead\n",
      "\n",
      "See the caveats in the documentation: https://pandas.pydata.org/pandas-docs/stable/user_guide/indexing.html#returning-a-view-versus-a-copy\n",
      "  data_slight['type'] = 'slight'\n",
      "/var/folders/1v/mg6_xn492j3g8l1qd503m2n80000gn/T/ipykernel_70752/889736065.py:5: SettingWithCopyWarning: \n",
      "A value is trying to be set on a copy of a slice from a DataFrame.\n",
      "Try using .loc[row_indexer,col_indexer] = value instead\n",
      "\n",
      "See the caveats in the documentation: https://pandas.pydata.org/pandas-docs/stable/user_guide/indexing.html#returning-a-view-versus-a-copy\n",
      "  data_certain['type'] = 'unsafe'\n",
      "/var/folders/1v/mg6_xn492j3g8l1qd503m2n80000gn/T/ipykernel_70752/889736065.py:10: SettingWithCopyWarning: \n",
      "A value is trying to be set on a copy of a slice from a DataFrame.\n",
      "Try using .loc[row_indexer,col_indexer] = value instead\n",
      "\n",
      "See the caveats in the documentation: https://pandas.pydata.org/pandas-docs/stable/user_guide/indexing.html#returning-a-view-versus-a-copy\n",
      "  data_marginal['type'] = 'marginal'\n",
      "/var/folders/1v/mg6_xn492j3g8l1qd503m2n80000gn/T/ipykernel_70752/889736065.py:17: SettingWithCopyWarning: \n",
      "A value is trying to be set on a copy of a slice from a DataFrame.\n",
      "Try using .loc[row_indexer,col_indexer] = value instead\n",
      "\n",
      "See the caveats in the documentation: https://pandas.pydata.org/pandas-docs/stable/user_guide/indexing.html#returning-a-view-versus-a-copy\n",
      "  data_slight['type'] = 'slight'\n",
      "/var/folders/1v/mg6_xn492j3g8l1qd503m2n80000gn/T/ipykernel_70752/889736065.py:5: SettingWithCopyWarning: \n",
      "A value is trying to be set on a copy of a slice from a DataFrame.\n",
      "Try using .loc[row_indexer,col_indexer] = value instead\n",
      "\n",
      "See the caveats in the documentation: https://pandas.pydata.org/pandas-docs/stable/user_guide/indexing.html#returning-a-view-versus-a-copy\n",
      "  data_certain['type'] = 'unsafe'\n",
      "/var/folders/1v/mg6_xn492j3g8l1qd503m2n80000gn/T/ipykernel_70752/889736065.py:10: SettingWithCopyWarning: \n",
      "A value is trying to be set on a copy of a slice from a DataFrame.\n",
      "Try using .loc[row_indexer,col_indexer] = value instead\n",
      "\n",
      "See the caveats in the documentation: https://pandas.pydata.org/pandas-docs/stable/user_guide/indexing.html#returning-a-view-versus-a-copy\n",
      "  data_marginal['type'] = 'marginal'\n",
      "/var/folders/1v/mg6_xn492j3g8l1qd503m2n80000gn/T/ipykernel_70752/889736065.py:17: SettingWithCopyWarning: \n",
      "A value is trying to be set on a copy of a slice from a DataFrame.\n",
      "Try using .loc[row_indexer,col_indexer] = value instead\n",
      "\n",
      "See the caveats in the documentation: https://pandas.pydata.org/pandas-docs/stable/user_guide/indexing.html#returning-a-view-versus-a-copy\n",
      "  data_slight['type'] = 'slight'\n"
     ]
    }
   ],
   "source": [
    "res = pd.DataFrame()\n",
    "\n",
    "for flag in flags:\n",
    "    data_certain = df_replies_filtered[df_replies_filtered[flag] > 0.6]\n",
    "    data_certain['type'] = 'unsafe'\n",
    "    data_marginal = df_replies_filtered[\n",
    "        (df_replies_filtered[flag] >= 0.4) &\n",
    "        (df_replies_filtered[flag] <= 0.6)\n",
    "    ]\n",
    "    data_marginal['type'] = 'marginal'\n",
    "\n",
    "    data_slight = df_replies_filtered[\n",
    "        (df_replies_filtered[flag] >= 0.25) &\n",
    "        (df_replies_filtered[flag] < 0.4)\n",
    "    ]\n",
    "\n",
    "    data_slight['type'] = 'slight'\n",
    "\n",
    "    res = pd.concat([\n",
    "        res, data_certain, data_marginal, data_slight\n",
    "    ])\n",
    "\n",
    "res = res.drop_duplicates('id')\n",
    "    "
   ]
  },
  {
   "cell_type": "code",
   "execution_count": 36,
   "metadata": {},
   "outputs": [
    {
     "data": {
      "text/plain": [
       "type\n",
       "slight      8918\n",
       "marginal    2691\n",
       "unsafe      1051\n",
       "Name: count, dtype: int64"
      ]
     },
     "execution_count": 36,
     "metadata": {},
     "output_type": "execute_result"
    }
   ],
   "source": [
    "res.type.value_counts()"
   ]
  },
  {
   "cell_type": "code",
   "execution_count": 38,
   "metadata": {},
   "outputs": [],
   "source": [
    "res_unsafe = res[res.type != 'slight']\n",
    "res_slight = res[res.type == 'slight']\n",
    "\n",
    "res_enhanced = pd.concat([\n",
    "    res_unsafe, res_slight.sample(2000)\n",
    "])"
   ]
  },
  {
   "cell_type": "code",
   "execution_count": 39,
   "metadata": {},
   "outputs": [
    {
     "data": {
      "text/plain": [
       "type\n",
       "marginal    2691\n",
       "slight      2000\n",
       "unsafe      1051\n",
       "Name: count, dtype: int64"
      ]
     },
     "execution_count": 39,
     "metadata": {},
     "output_type": "execute_result"
    }
   ],
   "source": [
    "res_enhanced.type.value_counts()"
   ]
  },
  {
   "cell_type": "code",
   "execution_count": 40,
   "metadata": {},
   "outputs": [
    {
     "data": {
      "text/plain": [
       "8143       Gonna shoot myself I shoulder known how to do ...\n",
       "11047      Mohamad shut your mouth please I don't like be...\n",
       "11695      i completly agree with you daniel, now go to h...\n",
       "11699      i completly agree with you daniel, now go to h...\n",
       "17101      Oh go well now that I look at James' answer I ...\n",
       "                                 ...                        \n",
       "1401780    XD! He needs one if he was here right now I be...\n",
       "1989492    After that you would just square them...meanin...\n",
       "2482076    I will be honest with you, anime boys do fiddl...\n",
       "1404139    I messed up ok but everbody makes mistakes yal...\n",
       "1364512    Alexandra will you go out with me? Your math s...\n",
       "Name: comment_text, Length: 5742, dtype: object"
      ]
     },
     "execution_count": 40,
     "metadata": {},
     "output_type": "execute_result"
    }
   ],
   "source": [
    "res_enhanced.comment_text"
   ]
  },
  {
   "cell_type": "code",
   "execution_count": 33,
   "metadata": {},
   "outputs": [
    {
     "data": {
      "text/plain": [
       "(12660, 4)"
      ]
     },
     "execution_count": 33,
     "metadata": {},
     "output_type": "execute_result"
    }
   ],
   "source": [
    "res[['id', 'useraccount_id', 'comment_text', 'type']].shape"
   ]
  },
  {
   "cell_type": "code",
   "execution_count": 41,
   "metadata": {},
   "outputs": [],
   "source": [
    "res_enhanced.to_csv('./mturk_sample.csv', index=False)"
   ]
  }
 ],
 "metadata": {
  "kernelspec": {
   "display_name": "safety_xai",
   "language": "python",
   "name": "python3"
  },
  "language_info": {
   "codemirror_mode": {
    "name": "ipython",
    "version": 3
   },
   "file_extension": ".py",
   "mimetype": "text/x-python",
   "name": "python",
   "nbconvert_exporter": "python",
   "pygments_lexer": "ipython3",
   "version": "3.8.16"
  },
  "orig_nbformat": 4
 },
 "nbformat": 4,
 "nbformat_minor": 2
}
